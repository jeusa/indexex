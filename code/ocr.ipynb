{
 "cells": [
  {
   "cell_type": "code",
   "execution_count": 1,
   "id": "6b311946",
   "metadata": {},
   "outputs": [],
   "source": [
    "import numpy as np\n",
    "import pandas as pd\n",
    "import seaborn as sns\n",
    "import matplotlib.pyplot as plt\n",
    "import re\n",
    "import os\n",
    "import fitz\n",
    "import pytesseract\n",
    "import io\n",
    "import PyPDF2\n",
    "\n",
    "from pprint import pprint\n",
    "from PIL import Image\n",
    "from pdf2image import convert_from_path\n",
    "\n",
    "import util\n",
    "import lines\n",
    "import group\n",
    "import label\n",
    "import records"
   ]
  },
  {
   "cell_type": "code",
   "execution_count": 2,
   "id": "a9776c84",
   "metadata": {
    "scrolled": true
   },
   "outputs": [
    {
     "data": {
      "text/plain": [
       "['H:\\\\Documents\\\\Indexex\\\\ILO_yearly_indices\\\\Afghanistan\\\\Afghanistan_LS_index_1935.pdf',\n",
       " 'H:\\\\Documents\\\\Indexex\\\\ILO_yearly_indices\\\\Albania\\\\Albania_LS_index_1934.pdf',\n",
       " 'H:\\\\Documents\\\\Indexex\\\\ILO_yearly_indices\\\\Albania\\\\Albania_LS_index_1934_test_DE.pdf',\n",
       " 'H:\\\\Documents\\\\Indexex\\\\ILO_yearly_indices\\\\Albania\\\\Albania_LS_index_1935.pdf',\n",
       " 'H:\\\\Documents\\\\Indexex\\\\ILO_yearly_indices\\\\Argentina\\\\Argentina_LS_index_1934.pdf',\n",
       " 'H:\\\\Documents\\\\Indexex\\\\ILO_yearly_indices\\\\Argentina\\\\Argentina_LS_index_1935.pdf',\n",
       " 'H:\\\\Documents\\\\Indexex\\\\ILO_yearly_indices\\\\Argentina\\\\Argentinia_LS_index_1934_test_II_DE.pdf',\n",
       " 'H:\\\\Documents\\\\Indexex\\\\ILO_yearly_indices\\\\Argentina\\\\Argentinia_LS_index_1934_test_I_DE.pdf',\n",
       " 'H:\\\\Documents\\\\Indexex\\\\ILO_yearly_indices\\\\Australia\\\\Australia_LS_index_1934-3.pdf',\n",
       " 'H:\\\\Documents\\\\Indexex\\\\ILO_yearly_indices\\\\Austria\\\\Austria_LS_index_1934-4.pdf',\n",
       " 'H:\\\\Documents\\\\Indexex\\\\ILO_yearly_indices\\\\Belgium\\\\Belgium_LS_index_1934.pdf',\n",
       " 'H:\\\\Documents\\\\Indexex\\\\ILO_yearly_indices\\\\Brazil\\\\Brazil_LS_index_1934.pdf',\n",
       " 'H:\\\\Documents\\\\Indexex\\\\ILO_yearly_indices\\\\Congo_Democratic_Republic\\\\Congo_Democratic_Republic_LS_index_1934.pdf',\n",
       " 'H:\\\\Documents\\\\Indexex\\\\ILO_yearly_indices\\\\LS_1986.pdf',\n",
       " 'H:\\\\Documents\\\\Indexex\\\\ILO_yearly_indices\\\\LS_1988.pdf',\n",
       " 'H:\\\\Documents\\\\Indexex\\\\ILO_yearly_indices\\\\LS_index_1920.pdf',\n",
       " 'H:\\\\Documents\\\\Indexex\\\\ILO_yearly_indices\\\\LS_index_1921.pdf',\n",
       " 'H:\\\\Documents\\\\Indexex\\\\ILO_yearly_indices\\\\LS_index_1922.pdf',\n",
       " 'H:\\\\Documents\\\\Indexex\\\\ILO_yearly_indices\\\\LS_index_1923.pdf',\n",
       " 'H:\\\\Documents\\\\Indexex\\\\ILO_yearly_indices\\\\LS_index_1924.pdf',\n",
       " 'H:\\\\Documents\\\\Indexex\\\\ILO_yearly_indices\\\\LS_index_1925.pdf',\n",
       " 'H:\\\\Documents\\\\Indexex\\\\ILO_yearly_indices\\\\LS_index_1926.pdf',\n",
       " 'H:\\\\Documents\\\\Indexex\\\\ILO_yearly_indices\\\\LS_index_1927.pdf',\n",
       " 'H:\\\\Documents\\\\Indexex\\\\ILO_yearly_indices\\\\LS_index_1928.pdf',\n",
       " 'H:\\\\Documents\\\\Indexex\\\\ILO_yearly_indices\\\\LS_index_1929.pdf',\n",
       " 'H:\\\\Documents\\\\Indexex\\\\ILO_yearly_indices\\\\LS_index_1930.pdf',\n",
       " 'H:\\\\Documents\\\\Indexex\\\\ILO_yearly_indices\\\\LS_index_1931.pdf',\n",
       " 'H:\\\\Documents\\\\Indexex\\\\ILO_yearly_indices\\\\LS_index_1932.pdf',\n",
       " 'H:\\\\Documents\\\\Indexex\\\\ILO_yearly_indices\\\\LS_index_1933.pdf',\n",
       " 'H:\\\\Documents\\\\Indexex\\\\ILO_yearly_indices\\\\LS_index_1934.pdf',\n",
       " 'H:\\\\Documents\\\\Indexex\\\\ILO_yearly_indices\\\\LS_index_1935.pdf',\n",
       " 'H:\\\\Documents\\\\Indexex\\\\ILO_yearly_indices\\\\LS_index_1936.pdf',\n",
       " 'H:\\\\Documents\\\\Indexex\\\\ILO_yearly_indices\\\\LS_index_1937.pdf',\n",
       " 'H:\\\\Documents\\\\Indexex\\\\ILO_yearly_indices\\\\LS_index_1938.pdf',\n",
       " 'H:\\\\Documents\\\\Indexex\\\\ILO_yearly_indices\\\\LS_index_1939.pdf',\n",
       " 'H:\\\\Documents\\\\Indexex\\\\ILO_yearly_indices\\\\LS_index_1940.pdf',\n",
       " 'H:\\\\Documents\\\\Indexex\\\\ILO_yearly_indices\\\\LS_index_1941.pdf',\n",
       " 'H:\\\\Documents\\\\Indexex\\\\ILO_yearly_indices\\\\LS_index_1942.pdf',\n",
       " 'H:\\\\Documents\\\\Indexex\\\\ILO_yearly_indices\\\\LS_index_1943.pdf',\n",
       " 'H:\\\\Documents\\\\Indexex\\\\ILO_yearly_indices\\\\LS_index_1944.pdf',\n",
       " 'H:\\\\Documents\\\\Indexex\\\\ILO_yearly_indices\\\\LS_index_1945.pdf',\n",
       " 'H:\\\\Documents\\\\Indexex\\\\ILO_yearly_indices\\\\LS_index_1946.pdf',\n",
       " 'H:\\\\Documents\\\\Indexex\\\\ILO_yearly_indices\\\\LS_index_1947.pdf',\n",
       " 'H:\\\\Documents\\\\Indexex\\\\ILO_yearly_indices\\\\LS_index_1948.pdf',\n",
       " 'H:\\\\Documents\\\\Indexex\\\\ILO_yearly_indices\\\\LS_index_1949.pdf',\n",
       " 'H:\\\\Documents\\\\Indexex\\\\ILO_yearly_indices\\\\LS_index_1950.pdf',\n",
       " 'H:\\\\Documents\\\\Indexex\\\\ILO_yearly_indices\\\\LS_index_1951.pdf',\n",
       " 'H:\\\\Documents\\\\Indexex\\\\ILO_yearly_indices\\\\LS_index_1952_French.pdf',\n",
       " 'H:\\\\Documents\\\\Indexex\\\\ILO_yearly_indices\\\\LS_index_1953.pdf',\n",
       " 'H:\\\\Documents\\\\Indexex\\\\ILO_yearly_indices\\\\LS_index_1954.pdf',\n",
       " 'H:\\\\Documents\\\\Indexex\\\\ILO_yearly_indices\\\\LS_index_1955.pdf',\n",
       " 'H:\\\\Documents\\\\Indexex\\\\ILO_yearly_indices\\\\LS_index_1956_upside_down.pdf',\n",
       " 'H:\\\\Documents\\\\Indexex\\\\ILO_yearly_indices\\\\LS_index_1957.pdf',\n",
       " 'H:\\\\Documents\\\\Indexex\\\\ILO_yearly_indices\\\\LS_index_1957_2.pdf',\n",
       " 'H:\\\\Documents\\\\Indexex\\\\ILO_yearly_indices\\\\LS_index_1958.pdf',\n",
       " 'H:\\\\Documents\\\\Indexex\\\\ILO_yearly_indices\\\\LS_index_1959.pdf',\n",
       " 'H:\\\\Documents\\\\Indexex\\\\ILO_yearly_indices\\\\LS_index_1960.pdf',\n",
       " 'H:\\\\Documents\\\\Indexex\\\\ILO_yearly_indices\\\\LS_index_1961.pdf',\n",
       " 'H:\\\\Documents\\\\Indexex\\\\ILO_yearly_indices\\\\LS_index_1962.pdf',\n",
       " 'H:\\\\Documents\\\\Indexex\\\\ILO_yearly_indices\\\\LS_index_1963.pdf',\n",
       " 'H:\\\\Documents\\\\Indexex\\\\ILO_yearly_indices\\\\LS_index_1964.pdf',\n",
       " 'H:\\\\Documents\\\\Indexex\\\\ILO_yearly_indices\\\\LS_index_1965.pdf',\n",
       " 'H:\\\\Documents\\\\Indexex\\\\ILO_yearly_indices\\\\LS_index_1966.pdf',\n",
       " 'H:\\\\Documents\\\\Indexex\\\\ILO_yearly_indices\\\\LS_index_1967.pdf',\n",
       " 'H:\\\\Documents\\\\Indexex\\\\ILO_yearly_indices\\\\LS_index_1968.pdf',\n",
       " 'H:\\\\Documents\\\\Indexex\\\\ILO_yearly_indices\\\\LS_index_1970.pdf',\n",
       " 'H:\\\\Documents\\\\Indexex\\\\ILO_yearly_indices\\\\LS_index_1971_French.pdf',\n",
       " 'H:\\\\Documents\\\\Indexex\\\\ILO_yearly_indices\\\\LS_index_1972.pdf',\n",
       " 'H:\\\\Documents\\\\Indexex\\\\ILO_yearly_indices\\\\LS_index_1973.pdf',\n",
       " 'H:\\\\Documents\\\\Indexex\\\\ILO_yearly_indices\\\\LS_index_1975.pdf',\n",
       " 'H:\\\\Documents\\\\Indexex\\\\ILO_yearly_indices\\\\LS_index_1975_Spanish.pdf',\n",
       " 'H:\\\\Documents\\\\Indexex\\\\ILO_yearly_indices\\\\LS_index_1976.pdf',\n",
       " 'H:\\\\Documents\\\\Indexex\\\\ILO_yearly_indices\\\\LS_index_1977.pdf',\n",
       " 'H:\\\\Documents\\\\Indexex\\\\ILO_yearly_indices\\\\LS_index_1978.pdf',\n",
       " 'H:\\\\Documents\\\\Indexex\\\\ILO_yearly_indices\\\\LS_index_1979.pdf',\n",
       " 'H:\\\\Documents\\\\Indexex\\\\ILO_yearly_indices\\\\LS_index_1980_Spanish.pdf',\n",
       " 'H:\\\\Documents\\\\Indexex\\\\ILO_yearly_indices\\\\LS_index_1981.pdf',\n",
       " 'H:\\\\Documents\\\\Indexex\\\\ILO_yearly_indices\\\\LS_index_1982.pdf',\n",
       " 'H:\\\\Documents\\\\Indexex\\\\ILO_yearly_indices\\\\LS_Index_1983.pdf',\n",
       " 'H:\\\\Documents\\\\Indexex\\\\ILO_yearly_indices\\\\LS_index_1983_Spanish.pdf',\n",
       " 'H:\\\\Documents\\\\Indexex\\\\ILO_yearly_indices\\\\LS_index_1984.pdf',\n",
       " 'H:\\\\Documents\\\\Indexex\\\\ILO_yearly_indices\\\\LS_index_1985-1.pdf',\n",
       " 'H:\\\\Documents\\\\Indexex\\\\ILO_yearly_indices\\\\LS_index_1986.pdf',\n",
       " 'H:\\\\Documents\\\\Indexex\\\\ILO_yearly_indices\\\\LS_index_1987.pdf',\n",
       " 'H:\\\\Documents\\\\Indexex\\\\ILO_yearly_indices\\\\LS_index_1988_Spanish.pdf']"
      ]
     },
     "execution_count": 2,
     "metadata": {},
     "output_type": "execute_result"
    }
   ],
   "source": [
    "indexes_path = \"H:\\Documents\\Indexex\\ILO_yearly_indices\"\n",
    "df_path = \"H:\\Documents\\Indexex\\ILO_yearly_indices\\\\tesseract_data_frames\"\n",
    "indexes_files = util.list_files(indexes_path, suffix=\".pdf\")\n",
    "indexes_files"
   ]
  },
  {
   "cell_type": "code",
   "execution_count": 5,
   "id": "36e3e6a3",
   "metadata": {
    "scrolled": true
   },
   "outputs": [
    {
     "data": {
      "text/plain": [
       "['H:\\\\Documents\\\\Indexex\\\\ILO_yearly_indices\\\\LS_index_1981.pdf',\n",
       " 'H:\\\\Documents\\\\Indexex\\\\ILO_yearly_indices\\\\LS_index_1982.pdf',\n",
       " 'H:\\\\Documents\\\\Indexex\\\\ILO_yearly_indices\\\\LS_Index_1983.pdf',\n",
       " 'H:\\\\Documents\\\\Indexex\\\\ILO_yearly_indices\\\\LS_index_1983_Spanish.pdf',\n",
       " 'H:\\\\Documents\\\\Indexex\\\\ILO_yearly_indices\\\\LS_index_1984.pdf',\n",
       " 'H:\\\\Documents\\\\Indexex\\\\ILO_yearly_indices\\\\LS_index_1985-1.pdf',\n",
       " 'H:\\\\Documents\\\\Indexex\\\\ILO_yearly_indices\\\\LS_index_1986.pdf',\n",
       " 'H:\\\\Documents\\\\Indexex\\\\ILO_yearly_indices\\\\LS_index_1987.pdf',\n",
       " 'H:\\\\Documents\\\\Indexex\\\\ILO_yearly_indices\\\\LS_index_1988_Spanish.pdf']"
      ]
     },
     "execution_count": 5,
     "metadata": {},
     "output_type": "execute_result"
    }
   ],
   "source": [
    "files = indexes_files[-9:]\n",
    "files"
   ]
  },
  {
   "cell_type": "code",
   "execution_count": 6,
   "id": "bd65c202",
   "metadata": {},
   "outputs": [
    {
     "name": "stdout",
     "output_type": "stream",
     "text": [
      "Starting ocr for H:\\Documents\\Indexex\\ILO_yearly_indices\\LS_index_1981.pdf\n",
      "Done with file 0/8\n",
      "Starting ocr for H:\\Documents\\Indexex\\ILO_yearly_indices\\LS_index_1982.pdf\n",
      "Done with file 1/8\n",
      "Starting ocr for H:\\Documents\\Indexex\\ILO_yearly_indices\\LS_Index_1983.pdf\n",
      "Done with file 2/8\n",
      "Starting ocr for H:\\Documents\\Indexex\\ILO_yearly_indices\\LS_index_1983_Spanish.pdf\n",
      "Done with file 3/8\n",
      "Starting ocr for H:\\Documents\\Indexex\\ILO_yearly_indices\\LS_index_1984.pdf\n",
      "Done with file 4/8\n",
      "Starting ocr for H:\\Documents\\Indexex\\ILO_yearly_indices\\LS_index_1985-1.pdf\n",
      "Done with file 5/8\n",
      "Starting ocr for H:\\Documents\\Indexex\\ILO_yearly_indices\\LS_index_1986.pdf\n",
      "Done with file 6/8\n",
      "Starting ocr for H:\\Documents\\Indexex\\ILO_yearly_indices\\LS_index_1987.pdf\n",
      "Done with file 7/8\n",
      "Starting ocr for H:\\Documents\\Indexex\\ILO_yearly_indices\\LS_index_1988_Spanish.pdf\n",
      "Done with file 8/8\n"
     ]
    }
   ],
   "source": [
    "for i, f in enumerate(files):\n",
    "    print(f\"Starting ocr for {f}\")\n",
    "    util.ocr(f, verbose=False, save_to=df_path)\n",
    "    print(f\"Done with file {i}/{len(files)-1}\")"
   ]
  }
 ],
 "metadata": {
  "kernelspec": {
   "display_name": "Python 3 (ipykernel)",
   "language": "python",
   "name": "python3"
  },
  "language_info": {
   "codemirror_mode": {
    "name": "ipython",
    "version": 3
   },
   "file_extension": ".py",
   "mimetype": "text/x-python",
   "name": "python",
   "nbconvert_exporter": "python",
   "pygments_lexer": "ipython3",
   "version": "3.8.15"
  }
 },
 "nbformat": 4,
 "nbformat_minor": 5
}
